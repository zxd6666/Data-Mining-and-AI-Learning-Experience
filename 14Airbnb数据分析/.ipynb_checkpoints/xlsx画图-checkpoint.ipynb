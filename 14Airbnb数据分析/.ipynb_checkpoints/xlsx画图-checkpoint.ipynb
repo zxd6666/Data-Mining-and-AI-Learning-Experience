{
 "cells": [
  {
   "cell_type": "code",
   "execution_count": 1,
   "metadata": {},
   "outputs": [],
   "source": [
    "from openpyxl import Workbook\n",
    "from openpyxl.utils import get_column_letter\n",
    "from openpyxl.styles import PatternFill, Color\n",
    "from PIL import Image\n"
   ]
  },
  {
   "cell_type": "code",
   "execution_count": 4,
   "metadata": {},
   "outputs": [],
   "source": [
    "workbook = Workbook()\n",
    "worksheet = workbook.active\n",
    "im = Image.open(\"666.jpg\")\n",
    "im_width = im.size[0]\n",
    "im_height = im.size[1]\n",
    "pix = im.load()\n",
    "for row in range(1, im_height):\n",
    "    for col in range(1, im_width):\n",
    "        cell = worksheet.cell(column = col, row = row)\n",
    "        pixpoint = pix[col - 1, row - 1]\n",
    "        pixColor = \"FF%02X%02X%02X\" % (pixpoint[0], pixpoint[1], pixpoint[2])\n",
    "        fill = PatternFill(patternType = 'solid', fgColor = Color(rgb = pixColor))\n",
    "        cell.fill = fill\n",
    "    worksheet.row_dimensions[row].height = 6\n",
    "for col in range(1, im_width):\n",
    "    worksheet.column_dimensions[get_column_letter(col)].width = 1\n",
    "workbook.save(filename = '666.xlsx')\n"
   ]
  }
 ],
 "metadata": {
  "kernelspec": {
   "display_name": "Python 3",
   "language": "python",
   "name": "python3"
  },
  "language_info": {
   "codemirror_mode": {
    "name": "ipython",
    "version": 3
   },
   "file_extension": ".py",
   "mimetype": "text/x-python",
   "name": "python",
   "nbconvert_exporter": "python",
   "pygments_lexer": "ipython3",
   "version": "3.6.5"
  }
 },
 "nbformat": 4,
 "nbformat_minor": 2
}
