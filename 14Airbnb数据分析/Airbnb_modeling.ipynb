{
 "cells": [
  {
   "cell_type": "code",
   "execution_count": 2,
   "metadata": {},
   "outputs": [],
   "source": [
    "import numpy as np\n",
    "import pandas as pd\n",
    "import matplotlib.pyplot as plt\n",
    "import sklearn as sk\n",
    "#序列化的库\n",
    "import pickle\n",
    "import datetime\n",
    "import os\n",
    "import seaborn as sns\n",
    "from sklearn.preprocessing import *\n",
    "from sklearn.metrics import *\n",
    "from sklearn.model_selection import *\n",
    "from sklearn.preprocessing import StandardScaler\n",
    "from sklearn.preprocessing import LabelBinarizer"
   ]
  },
  {
   "cell_type": "markdown",
   "metadata": {},
   "source": [
    "#### About loading models"
   ]
  },
  {
   "cell_type": "code",
   "execution_count": null,
   "metadata": {
    "collapsed": true
   },
   "outputs": [],
   "source": [
    "# Loading the saved models\n",
    "# decision_tree_model_pkl = open(decision_tree_pkl_filename, 'rb')\n",
    "# decision_tree_model = pickle.load(decision_tree_model_pkl)\n",
    "# print \"Loaded Decision tree model :: \", decision_tree_model"
   ]
  },
  {
   "cell_type": "markdown",
   "metadata": {},
   "source": [
    "#### About saving models"
   ]
  },
  {
   "cell_type": "code",
   "execution_count": null,
   "metadata": {
    "collapsed": true
   },
   "outputs": [],
   "source": [
    "# Dump the trained LightGB classifier with Pickle\n",
    "# Lightgb_pkl_filename = 'Lightgb_classifier_20170719.pkl'\n",
    "# Open the file to save as pkl file\n",
    "# Lightgb_model_pkl = open(Lightgb_pkl_filename, 'wb')\n",
    "# pickle.dump(bst,Lightgb_model_pkl )\n",
    "# Close the pickle instances\n",
    "# Lightgb_model_pkl.close()"
   ]
  },
  {
   "cell_type": "code",
   "execution_count": 3,
   "metadata": {},
   "outputs": [],
   "source": [
    "xtrain = pd.read_csv(\"Airbnb_xtrain.csv\",index_col = 0)"
   ]
  },
  {
   "cell_type": "code",
   "execution_count": 4,
   "metadata": {},
   "outputs": [],
   "source": [
    "ytrain = pd.read_csv(\"Airbnb_ytrain.csv\", header = None)"
   ]
  },
  {
   "cell_type": "code",
   "execution_count": 5,
   "metadata": {},
   "outputs": [
    {
     "data": {
      "text/html": [
       "<div>\n",
       "<style scoped>\n",
       "    .dataframe tbody tr th:only-of-type {\n",
       "        vertical-align: middle;\n",
       "    }\n",
       "\n",
       "    .dataframe tbody tr th {\n",
       "        vertical-align: top;\n",
       "    }\n",
       "\n",
       "    .dataframe thead th {\n",
       "        text-align: right;\n",
       "    }\n",
       "</style>\n",
       "<table border=\"1\" class=\"dataframe\">\n",
       "  <thead>\n",
       "    <tr style=\"text-align: right;\">\n",
       "      <th></th>\n",
       "      <th>tfa_year</th>\n",
       "      <th>tfa_month</th>\n",
       "      <th>tfa_day</th>\n",
       "      <th>tfa_wd_1</th>\n",
       "      <th>tfa_wd_2</th>\n",
       "      <th>tfa_wd_3</th>\n",
       "      <th>tfa_wd_4</th>\n",
       "      <th>tfa_wd_5</th>\n",
       "      <th>tfa_wd_6</th>\n",
       "      <th>tfa_wd_7</th>\n",
       "      <th>...</th>\n",
       "      <th>c_447</th>\n",
       "      <th>c_448</th>\n",
       "      <th>c_449</th>\n",
       "      <th>c_450</th>\n",
       "      <th>c_451</th>\n",
       "      <th>c_452</th>\n",
       "      <th>c_453</th>\n",
       "      <th>c_454</th>\n",
       "      <th>c_455</th>\n",
       "      <th>all_null</th>\n",
       "    </tr>\n",
       "  </thead>\n",
       "  <tbody>\n",
       "    <tr>\n",
       "      <th>0</th>\n",
       "      <td>2009</td>\n",
       "      <td>3</td>\n",
       "      <td>19</td>\n",
       "      <td>0</td>\n",
       "      <td>0</td>\n",
       "      <td>0</td>\n",
       "      <td>1</td>\n",
       "      <td>0</td>\n",
       "      <td>0</td>\n",
       "      <td>0</td>\n",
       "      <td>...</td>\n",
       "      <td>-2.0</td>\n",
       "      <td>-2.0</td>\n",
       "      <td>-2.0</td>\n",
       "      <td>-2.0</td>\n",
       "      <td>-2.0</td>\n",
       "      <td>-2.0</td>\n",
       "      <td>-2.0</td>\n",
       "      <td>-2.0</td>\n",
       "      <td>-2.0</td>\n",
       "      <td>456</td>\n",
       "    </tr>\n",
       "    <tr>\n",
       "      <th>1</th>\n",
       "      <td>2009</td>\n",
       "      <td>5</td>\n",
       "      <td>23</td>\n",
       "      <td>0</td>\n",
       "      <td>0</td>\n",
       "      <td>0</td>\n",
       "      <td>0</td>\n",
       "      <td>0</td>\n",
       "      <td>1</td>\n",
       "      <td>0</td>\n",
       "      <td>...</td>\n",
       "      <td>-2.0</td>\n",
       "      <td>-2.0</td>\n",
       "      <td>-2.0</td>\n",
       "      <td>-2.0</td>\n",
       "      <td>-2.0</td>\n",
       "      <td>-2.0</td>\n",
       "      <td>-2.0</td>\n",
       "      <td>-2.0</td>\n",
       "      <td>-2.0</td>\n",
       "      <td>456</td>\n",
       "    </tr>\n",
       "    <tr>\n",
       "      <th>2</th>\n",
       "      <td>2009</td>\n",
       "      <td>6</td>\n",
       "      <td>9</td>\n",
       "      <td>0</td>\n",
       "      <td>1</td>\n",
       "      <td>0</td>\n",
       "      <td>0</td>\n",
       "      <td>0</td>\n",
       "      <td>0</td>\n",
       "      <td>0</td>\n",
       "      <td>...</td>\n",
       "      <td>-2.0</td>\n",
       "      <td>-2.0</td>\n",
       "      <td>-2.0</td>\n",
       "      <td>-2.0</td>\n",
       "      <td>-2.0</td>\n",
       "      <td>-2.0</td>\n",
       "      <td>-2.0</td>\n",
       "      <td>-2.0</td>\n",
       "      <td>-2.0</td>\n",
       "      <td>456</td>\n",
       "    </tr>\n",
       "    <tr>\n",
       "      <th>3</th>\n",
       "      <td>2009</td>\n",
       "      <td>10</td>\n",
       "      <td>31</td>\n",
       "      <td>0</td>\n",
       "      <td>0</td>\n",
       "      <td>0</td>\n",
       "      <td>0</td>\n",
       "      <td>0</td>\n",
       "      <td>1</td>\n",
       "      <td>0</td>\n",
       "      <td>...</td>\n",
       "      <td>-2.0</td>\n",
       "      <td>-2.0</td>\n",
       "      <td>-2.0</td>\n",
       "      <td>-2.0</td>\n",
       "      <td>-2.0</td>\n",
       "      <td>-2.0</td>\n",
       "      <td>-2.0</td>\n",
       "      <td>-2.0</td>\n",
       "      <td>-2.0</td>\n",
       "      <td>456</td>\n",
       "    </tr>\n",
       "    <tr>\n",
       "      <th>4</th>\n",
       "      <td>2009</td>\n",
       "      <td>12</td>\n",
       "      <td>8</td>\n",
       "      <td>0</td>\n",
       "      <td>1</td>\n",
       "      <td>0</td>\n",
       "      <td>0</td>\n",
       "      <td>0</td>\n",
       "      <td>0</td>\n",
       "      <td>0</td>\n",
       "      <td>...</td>\n",
       "      <td>-2.0</td>\n",
       "      <td>-2.0</td>\n",
       "      <td>-2.0</td>\n",
       "      <td>-2.0</td>\n",
       "      <td>-2.0</td>\n",
       "      <td>-2.0</td>\n",
       "      <td>-2.0</td>\n",
       "      <td>-2.0</td>\n",
       "      <td>-2.0</td>\n",
       "      <td>456</td>\n",
       "    </tr>\n",
       "  </tbody>\n",
       "</table>\n",
       "<p>5 rows × 667 columns</p>\n",
       "</div>"
      ],
      "text/plain": [
       "   tfa_year  tfa_month  tfa_day  tfa_wd_1  tfa_wd_2  tfa_wd_3  tfa_wd_4  \\\n",
       "0      2009          3       19         0         0         0         1   \n",
       "1      2009          5       23         0         0         0         0   \n",
       "2      2009          6        9         0         1         0         0   \n",
       "3      2009         10       31         0         0         0         0   \n",
       "4      2009         12        8         0         1         0         0   \n",
       "\n",
       "   tfa_wd_5  tfa_wd_6  tfa_wd_7    ...     c_447  c_448  c_449  c_450  c_451  \\\n",
       "0         0         0         0    ...      -2.0   -2.0   -2.0   -2.0   -2.0   \n",
       "1         0         1         0    ...      -2.0   -2.0   -2.0   -2.0   -2.0   \n",
       "2         0         0         0    ...      -2.0   -2.0   -2.0   -2.0   -2.0   \n",
       "3         0         1         0    ...      -2.0   -2.0   -2.0   -2.0   -2.0   \n",
       "4         0         0         0    ...      -2.0   -2.0   -2.0   -2.0   -2.0   \n",
       "\n",
       "   c_452  c_453  c_454  c_455  all_null  \n",
       "0   -2.0   -2.0   -2.0   -2.0       456  \n",
       "1   -2.0   -2.0   -2.0   -2.0       456  \n",
       "2   -2.0   -2.0   -2.0   -2.0       456  \n",
       "3   -2.0   -2.0   -2.0   -2.0       456  \n",
       "4   -2.0   -2.0   -2.0   -2.0       456  \n",
       "\n",
       "[5 rows x 667 columns]"
      ]
     },
     "execution_count": 5,
     "metadata": {},
     "output_type": "execute_result"
    }
   ],
   "source": [
    "xtrain.head()"
   ]
  },
  {
   "cell_type": "code",
   "execution_count": 6,
   "metadata": {},
   "outputs": [
    {
     "data": {
      "text/html": [
       "<div>\n",
       "<style scoped>\n",
       "    .dataframe tbody tr th:only-of-type {\n",
       "        vertical-align: middle;\n",
       "    }\n",
       "\n",
       "    .dataframe tbody tr th {\n",
       "        vertical-align: top;\n",
       "    }\n",
       "\n",
       "    .dataframe thead th {\n",
       "        text-align: right;\n",
       "    }\n",
       "</style>\n",
       "<table border=\"1\" class=\"dataframe\">\n",
       "  <thead>\n",
       "    <tr style=\"text-align: right;\">\n",
       "      <th></th>\n",
       "      <th>0</th>\n",
       "    </tr>\n",
       "  </thead>\n",
       "  <tbody>\n",
       "    <tr>\n",
       "      <th>0</th>\n",
       "      <td>NDF</td>\n",
       "    </tr>\n",
       "    <tr>\n",
       "      <th>1</th>\n",
       "      <td>NDF</td>\n",
       "    </tr>\n",
       "    <tr>\n",
       "      <th>2</th>\n",
       "      <td>US</td>\n",
       "    </tr>\n",
       "    <tr>\n",
       "      <th>3</th>\n",
       "      <td>other</td>\n",
       "    </tr>\n",
       "    <tr>\n",
       "      <th>4</th>\n",
       "      <td>US</td>\n",
       "    </tr>\n",
       "    <tr>\n",
       "      <th>5</th>\n",
       "      <td>US</td>\n",
       "    </tr>\n",
       "    <tr>\n",
       "      <th>6</th>\n",
       "      <td>US</td>\n",
       "    </tr>\n",
       "    <tr>\n",
       "      <th>7</th>\n",
       "      <td>US</td>\n",
       "    </tr>\n",
       "    <tr>\n",
       "      <th>8</th>\n",
       "      <td>US</td>\n",
       "    </tr>\n",
       "    <tr>\n",
       "      <th>9</th>\n",
       "      <td>US</td>\n",
       "    </tr>\n",
       "  </tbody>\n",
       "</table>\n",
       "</div>"
      ],
      "text/plain": [
       "       0\n",
       "0    NDF\n",
       "1    NDF\n",
       "2     US\n",
       "3  other\n",
       "4     US\n",
       "5     US\n",
       "6     US\n",
       "7     US\n",
       "8     US\n",
       "9     US"
      ]
     },
     "execution_count": 6,
     "metadata": {},
     "output_type": "execute_result"
    }
   ],
   "source": [
    "ytrain.head(10)"
   ]
  },
  {
   "cell_type": "code",
   "execution_count": 7,
   "metadata": {},
   "outputs": [
    {
     "name": "stderr",
     "output_type": "stream",
     "text": [
      "E:\\Py\\lib\\site-packages\\sklearn\\preprocessing\\label.py:235: DataConversionWarning: A column-vector y was passed when a 1d array was expected. Please change the shape of y to (n_samples, ), for example using ravel().\n",
      "  y = column_or_1d(y, warn=True)\n"
     ]
    }
   ],
   "source": [
    "from sklearn.preprocessing import LabelEncoder\n",
    "le = LabelEncoder()\n",
    "ytrain_le = le.fit_transform(ytrain.values)"
   ]
  },
  {
   "cell_type": "code",
   "execution_count": 8,
   "metadata": {},
   "outputs": [
    {
     "data": {
      "text/plain": [
       "(213451,)"
      ]
     },
     "execution_count": 8,
     "metadata": {},
     "output_type": "execute_result"
    }
   ],
   "source": [
    "ytrain_le.shape"
   ]
  },
  {
   "cell_type": "code",
   "execution_count": 9,
   "metadata": {},
   "outputs": [
    {
     "data": {
      "text/plain": [
       "array([ 7,  7, 10, ...,  7,  7,  7])"
      ]
     },
     "execution_count": 9,
     "metadata": {},
     "output_type": "execute_result"
    }
   ],
   "source": [
    "ytrain_le"
   ]
  },
  {
   "cell_type": "code",
   "execution_count": 11,
   "metadata": {},
   "outputs": [
    {
     "name": "stdout",
     "output_type": "stream",
     "text": [
      "21345\n"
     ]
    }
   ],
   "source": [
    "#拿出原数据的百分之十作为研究对象 \n",
    "n = int(xtrain.shape[0] * 0.1)\n",
    "print (n)\n",
    "xtrain_new = xtrain.iloc[: n, :]\n",
    "ytrain_new = ytrain_le[: n]"
   ]
  },
  {
   "cell_type": "code",
   "execution_count": 11,
   "metadata": {},
   "outputs": [
    {
     "name": "stdout",
     "output_type": "stream",
     "text": [
      "(2134, 203)\n",
      "(2134,)\n"
     ]
    }
   ],
   "source": [
    "print (xtrain_new.shape)\n",
    "print (ytrain_new.shape)"
   ]
  },
  {
   "cell_type": "markdown",
   "metadata": {},
   "source": [
    "# 1. StandardScaling the dataset"
   ]
  },
  {
   "cell_type": "markdown",
   "metadata": {},
   "source": [
    "简而言之就是因为很多模型是基于正态分布假设的，所以对原始数据做一下数学标准化的处理\n",
    "\n",
    "Standardization of a dataset is a common requirement for many machine learning estimators: \n",
    "\n",
    "they might behave badly if the individual feature do not more or less look like standard normally distributed data (e.g. Gaussian with 0 mean and unit variance).\n",
    "\n",
    "For instance many elements used in the objective function of a learning algorithm (such as the RBF kernel of Support Vector Machines or the L1 and L2 regularizers of linear models) assume that all features are centered around 0 and have variance in the same order. \n",
    "\n",
    "If a feature has a variance that is orders of magnitude larger that others, it might dominate the objective function and make the estimator unable to learn from other features correctly as expected.\n"
   ]
  },
  {
   "cell_type": "code",
   "execution_count": 12,
   "metadata": {},
   "outputs": [
    {
     "name": "stderr",
     "output_type": "stream",
     "text": [
      "E:\\Py\\lib\\site-packages\\sklearn\\preprocessing\\data.py:645: DataConversionWarning: Data with input dtype int64, float64 were all converted to float64 by StandardScaler.\n",
      "  return self.partial_fit(X, y)\n",
      "E:\\Py\\lib\\site-packages\\sklearn\\base.py:464: DataConversionWarning: Data with input dtype int64, float64 were all converted to float64 by StandardScaler.\n",
      "  return self.fit(X, **fit_params).transform(X)\n"
     ]
    }
   ],
   "source": [
    "X_scaler = StandardScaler()\n",
    "xtrain_new = X_scaler.fit_transform(xtrain_new)"
   ]
  },
  {
   "cell_type": "markdown",
   "metadata": {},
   "source": [
    "# 2. Airbnb Evaluation: NDCG\n",
    "[NDCG搜索评价指标作为模型优良的判断标准](https://www.jianshu.com/p/f4999bf7d986)\n",
    "\n",
    "[NDCG计算方法说明](.\\NDCG.pdf)"
   ]
  },
  {
   "cell_type": "code",
   "execution_count": 13,
   "metadata": {},
   "outputs": [],
   "source": [
    "x = np.array([1.48, 1.41, 0.0, 0.1])\n",
    "order = np.argsort(x)[::-1]"
   ]
  },
  {
   "cell_type": "code",
   "execution_count": 14,
   "metadata": {},
   "outputs": [
    {
     "data": {
      "text/plain": [
       "array([0, 1, 3, 2], dtype=int64)"
      ]
     },
     "execution_count": 14,
     "metadata": {},
     "output_type": "execute_result"
    }
   ],
   "source": [
    "order"
   ]
  },
  {
   "cell_type": "code",
   "execution_count": 20,
   "metadata": {},
   "outputs": [
    {
     "data": {
      "text/plain": [
       "LabelBinarizer(neg_label=0, pos_label=1, sparse_output=False)"
      ]
     },
     "execution_count": 20,
     "metadata": {},
     "output_type": "execute_result"
    }
   ],
   "source": [
    "lb = LabelBinarizer()\n",
    "lb.fit(range(11))"
   ]
  },
  {
   "cell_type": "code",
   "execution_count": 21,
   "metadata": {},
   "outputs": [],
   "source": [
    "?lb"
   ]
  },
  {
   "cell_type": "code",
   "execution_count": 16,
   "metadata": {},
   "outputs": [],
   "source": [
    "ground_truth = [1, 0, 2, 2, 3, 12, 1, 0, 6, 7]"
   ]
  },
  {
   "cell_type": "code",
   "execution_count": 17,
   "metadata": {},
   "outputs": [],
   "source": [
    "T = lb.transform(ground_truth)"
   ]
  },
  {
   "cell_type": "code",
   "execution_count": 18,
   "metadata": {},
   "outputs": [
    {
     "data": {
      "text/plain": [
       "array([[0, 1, 0, 0, 0, 0, 0, 0, 0, 0, 0],\n",
       "       [1, 0, 0, 0, 0, 0, 0, 0, 0, 0, 0],\n",
       "       [0, 0, 1, 0, 0, 0, 0, 0, 0, 0, 0],\n",
       "       [0, 0, 1, 0, 0, 0, 0, 0, 0, 0, 0],\n",
       "       [0, 0, 0, 1, 0, 0, 0, 0, 0, 0, 0],\n",
       "       [0, 0, 0, 0, 0, 0, 0, 0, 0, 0, 0],\n",
       "       [0, 1, 0, 0, 0, 0, 0, 0, 0, 0, 0],\n",
       "       [1, 0, 0, 0, 0, 0, 0, 0, 0, 0, 0],\n",
       "       [0, 0, 0, 0, 0, 0, 1, 0, 0, 0, 0],\n",
       "       [0, 0, 0, 0, 0, 0, 0, 1, 0, 0, 0]])"
      ]
     },
     "execution_count": 18,
     "metadata": {},
     "output_type": "execute_result"
    }
   ],
   "source": [
    "T"
   ]
  },
  {
   "cell_type": "code",
   "execution_count": 13,
   "metadata": {},
   "outputs": [],
   "source": [
    "# From Kaggle Kernels\n",
    "\n",
    "from sklearn.metrics import make_scorer\n",
    "\n",
    "def dcg_score(y_true, y_score, k = 5):\n",
    "    \n",
    "    \"\"\"\n",
    "    y_true : array, shape = [n_samples]\n",
    "        Ground truth (true relevance labels).\n",
    "    y_score : array, shape = [n_samples, n_classes]\n",
    "        Predicted scores.\n",
    "    k : int\n",
    "    \"\"\"\n",
    "    order = np.argsort(y_score)[: : -1]\n",
    "    y_true = np.take(y_true, order[: k])\n",
    "    \n",
    "    \n",
    "    #order = [3,2,1,7]\n",
    "    #y_true = [0,1,0,0]\n",
    "    #y_true =[0,0,1,0]\n",
    "    \n",
    "    \n",
    "\n",
    "    gain = 2 ** y_true - 1\n",
    "\n",
    "    discounts = np.log2(np.arange(len(y_true)) + 2)\n",
    "    return np.sum(gain / discounts)\n",
    "    # 0 doesn't count =>>>> only reduce 1 \n",
    "\n",
    "\n",
    "def ndcg_score(ground_truth, predictions, k = 5):\n",
    "    \n",
    "    \"\"\"\n",
    "    Parameters\n",
    "    ----------\n",
    "    ground_truth : array, shape = [n_samples]\n",
    "        Ground truth (true labels represended as integers).\n",
    "    predictions : array, shape = [n_samples, n_classes]\n",
    "        Predicted probabilities.\n",
    "    k : int\n",
    "        Rank.\n",
    "        \n",
    "    Example\n",
    "    -------\n",
    "    >>> ground_truth = [1, 0, 2]\n",
    "    >>> predictions = [[0.15, 0.55, 0.2], [0.7, 0.2, 0.1], [0.06, 0.04, 0.9]]\n",
    "    >>> score = ndcg_score(ground_truth, predictions, k=2)\n",
    "    1.0\n",
    "    >>> predictions = [[0.9, 0.5, 0.8], [0.7, 0.2, 0.1], [0.06, 0.04, 0.9]]\n",
    "    >>> score = ndcg_score(ground_truth, predictions, k=2)\n",
    "    0.6666666666\n",
    "    \"\"\"\n",
    "    lb = LabelBinarizer()\n",
    "    lb.fit(range(len(predictions) + 1))\n",
    "    T = lb.transform(ground_truth)\n",
    "    \n",
    "    #ground_truth = [1, 0, 2]  =>>>> \n",
    "    #ground_truth : [[0, 1, 0],       [1, 0, 0],    [0, 0, 1]]\n",
    "    #predictions: [[0.15, 0.55, 0.2], [0.7, 0.2, 0.1], [0.06, 0.04, 0.9]]\n",
    "    #zip =>>> take one vector from each batch\n",
    "\n",
    "    scores = []\n",
    "\n",
    "    # Iterate over each y_true and compute the DCG score\n",
    "    for y_true, y_score in zip(T, predictions):\n",
    "        actual = dcg_score(y_true, y_score, k)\n",
    "        best = dcg_score(y_true, y_true, k)\n",
    "        score = float(actual) / float(best)\n",
    "        scores.append(score)\n",
    "\n",
    "    return np.mean(scores)"
   ]
  },
  {
   "cell_type": "markdown",
   "metadata": {},
   "source": [
    "# Logistic Regression"
   ]
  },
  {
   "cell_type": "code",
   "execution_count": 14,
   "metadata": {},
   "outputs": [
    {
     "name": "stdout",
     "output_type": "stream",
     "text": [
      "LogisticRegression(C=1.0, class_weight=None, dual=False, fit_intercept=True,\n",
      "          intercept_scaling=1, max_iter=100, multi_class='ovr', n_jobs=1,\n",
      "          penalty='l2', random_state=None, solver='liblinear', tol=0.0001,\n",
      "          verbose=0, warm_start=False)\n"
     ]
    }
   ],
   "source": [
    "from sklearn.linear_model import LogisticRegression\n",
    "\n",
    "lr = LogisticRegression(C = 1.0, penalty = 'l2', multi_class = 'ovr')\n",
    "print (lr)"
   ]
  },
  {
   "cell_type": "code",
   "execution_count": 15,
   "metadata": {},
   "outputs": [],
   "source": [
    "from sklearn.model_selection import KFold, cross_val_score, train_test_split"
   ]
  },
  {
   "cell_type": "code",
   "execution_count": 16,
   "metadata": {},
   "outputs": [],
   "source": [
    "RANDOM_STATE = 2017\n",
    "\n",
    "kf = KFold(n_splits = 5, random_state = RANDOM_STATE)"
   ]
  },
  {
   "cell_type": "code",
   "execution_count": 17,
   "metadata": {},
   "outputs": [
    {
     "ename": "NameError",
     "evalue": "name 'y_train' is not defined",
     "output_type": "error",
     "traceback": [
      "\u001b[0;31m---------------------------------------------------------------------------\u001b[0m",
      "\u001b[0;31mNameError\u001b[0m                                 Traceback (most recent call last)",
      "\u001b[0;32m<ipython-input-17-b7e6e0797d97>\u001b[0m in \u001b[0;36m<module>\u001b[0;34m()\u001b[0m\n\u001b[0;32m----> 1\u001b[0;31m \u001b[0my_train\u001b[0m\u001b[0;34m\u001b[0m\u001b[0m\n\u001b[0m",
      "\u001b[0;31mNameError\u001b[0m: name 'y_train' is not defined"
     ]
    }
   ],
   "source": [
    "y_train"
   ]
  },
  {
   "cell_type": "code",
   "execution_count": 18,
   "metadata": {},
   "outputs": [
    {
     "name": "stdout",
     "output_type": "stream",
     "text": [
      "(1707, 203) (427, 203)\n",
      "(1707, 203) (427, 203)\n",
      "(1707, 203) (427, 203)\n",
      "(1707, 203) (427, 203)\n",
      "(1708, 203) (426, 203)\n",
      "\n",
      "The training score is: 0.7248300419244074\n",
      "\n",
      "The cv score is: 0.6376237921332676\n"
     ]
    }
   ],
   "source": [
    "train_score = []\n",
    "cv_score = []\n",
    "\n",
    "# select a k  (value how many y):\n",
    "k_ndcg = 3\n",
    "\n",
    "for train_index, test_index in kf.split(xtrain_new, ytrain_new):\n",
    "    \n",
    "    X_train, X_test = xtrain_new[train_index, :], xtrain_new[test_index, :]\n",
    "    y_train, y_test = ytrain_new[train_index], ytrain_new[test_index]\n",
    "    \n",
    "    print (X_train.shape, X_test.shape)\n",
    "    \n",
    "    lr.fit(X_train, y_train)\n",
    "    \n",
    "    y_pred = lr.predict_proba(X_test)\n",
    "    \n",
    "    # for binary classification: we used to use f1 score, precision, recall, auc score.\n",
    "    # here for Airbnb we use the ndcg evaluation. \n",
    "    \n",
    "    train_ndcg_score = ndcg_score(y_train, lr.predict_proba(X_train), k = k_ndcg)\n",
    "    cv_ndcg_score = ndcg_score(y_test, y_pred, k = k_ndcg)\n",
    "    \n",
    "    train_score.append(train_ndcg_score)\n",
    "    cv_score.append(cv_ndcg_score)\n",
    "    \n",
    "print (\"\\nThe training score is: {}\".format(np.mean(train_score)))\n",
    "print (\"\\nThe cv score is: {}\".format(np.mean(cv_score)))"
   ]
  },
  {
   "cell_type": "code",
   "execution_count": 19,
   "metadata": {
    "collapsed": true
   },
   "outputs": [],
   "source": [
    "cv_score_lr = 0.744"
   ]
  },
  {
   "cell_type": "markdown",
   "metadata": {},
   "source": [
    "# 1. Learning curve of logistic regression\n",
    "\n",
    "## 1.1 Changing iteration"
   ]
  },
  {
   "cell_type": "code",
   "execution_count": 17,
   "metadata": {
    "scrolled": true
   },
   "outputs": [
    {
     "name": "stdout",
     "output_type": "stream",
     "text": [
      "1 iterations:\n",
      "LogisticRegression(C=1.0, class_weight=None, dual=False, fit_intercept=True,\n",
      "          intercept_scaling=1, max_iter=1, multi_class='ovr', n_jobs=1,\n",
      "          penalty='l2', random_state=None, solver='newton-cg', tol=1e-05,\n",
      "          verbose=0, warm_start=False)\n",
      "(1422, 203) (712, 203)\n"
     ]
    },
    {
     "name": "stderr",
     "output_type": "stream",
     "text": [
      "/Users/zepeng/anaconda/lib/python3.5/site-packages/sklearn/utils/optimize.py:203: ConvergenceWarning: newton-cg failed to converge. Increase the number of iterations.\n",
      "  \"number of iterations.\", ConvergenceWarning)\n"
     ]
    },
    {
     "name": "stdout",
     "output_type": "stream",
     "text": [
      "(1423, 203) (711, 203)\n",
      "(1423, 203) (711, 203)\n",
      "\n",
      "The training score is: 0.6935203627647866\n",
      "The cv score is: 0.1349427435229412\n",
      "\n",
      "5 iterations:\n",
      "LogisticRegression(C=1.0, class_weight=None, dual=False, fit_intercept=True,\n",
      "          intercept_scaling=1, max_iter=5, multi_class='ovr', n_jobs=1,\n",
      "          penalty='l2', random_state=None, solver='newton-cg', tol=1e-05,\n",
      "          verbose=0, warm_start=False)\n",
      "(1422, 203) (712, 203)\n"
     ]
    },
    {
     "name": "stderr",
     "output_type": "stream",
     "text": [
      "/Users/zepeng/anaconda/lib/python3.5/site-packages/sklearn/utils/optimize.py:203: ConvergenceWarning: newton-cg failed to converge. Increase the number of iterations.\n",
      "  \"number of iterations.\", ConvergenceWarning)\n"
     ]
    },
    {
     "name": "stdout",
     "output_type": "stream",
     "text": [
      "(1423, 203) (711, 203)\n",
      "(1423, 203) (711, 203)\n",
      "\n",
      "The training score is: 0.722233413546582\n",
      "The cv score is: 0.39987041031511045\n",
      "\n",
      "10 iterations:\n",
      "LogisticRegression(C=1.0, class_weight=None, dual=False, fit_intercept=True,\n",
      "          intercept_scaling=1, max_iter=10, multi_class='ovr', n_jobs=1,\n",
      "          penalty='l2', random_state=None, solver='newton-cg', tol=1e-05,\n",
      "          verbose=0, warm_start=False)\n",
      "(1422, 203) (712, 203)\n"
     ]
    },
    {
     "name": "stderr",
     "output_type": "stream",
     "text": [
      "/Users/zepeng/anaconda/lib/python3.5/site-packages/sklearn/utils/optimize.py:203: ConvergenceWarning: newton-cg failed to converge. Increase the number of iterations.\n",
      "  \"number of iterations.\", ConvergenceWarning)\n"
     ]
    },
    {
     "name": "stdout",
     "output_type": "stream",
     "text": [
      "(1423, 203) (711, 203)\n",
      "(1423, 203) (711, 203)\n",
      "\n",
      "The training score is: 0.7246245793472205\n",
      "The cv score is: 0.6363398120100564\n",
      "\n",
      "15 iterations:\n",
      "LogisticRegression(C=1.0, class_weight=None, dual=False, fit_intercept=True,\n",
      "          intercept_scaling=1, max_iter=15, multi_class='ovr', n_jobs=1,\n",
      "          penalty='l2', random_state=None, solver='newton-cg', tol=1e-05,\n",
      "          verbose=0, warm_start=False)\n",
      "(1422, 203) (712, 203)\n"
     ]
    },
    {
     "name": "stderr",
     "output_type": "stream",
     "text": [
      "/Users/zepeng/anaconda/lib/python3.5/site-packages/sklearn/utils/optimize.py:203: ConvergenceWarning: newton-cg failed to converge. Increase the number of iterations.\n",
      "  \"number of iterations.\", ConvergenceWarning)\n"
     ]
    },
    {
     "name": "stdout",
     "output_type": "stream",
     "text": [
      "(1423, 203) (711, 203)\n",
      "(1423, 203) (711, 203)\n",
      "\n",
      "The training score is: 0.7253842898244499\n",
      "The cv score is: 0.6434609695610553\n",
      "\n",
      "20 iterations:\n",
      "LogisticRegression(C=1.0, class_weight=None, dual=False, fit_intercept=True,\n",
      "          intercept_scaling=1, max_iter=20, multi_class='ovr', n_jobs=1,\n",
      "          penalty='l2', random_state=None, solver='newton-cg', tol=1e-05,\n",
      "          verbose=0, warm_start=False)\n",
      "(1422, 203) (712, 203)\n",
      "(1423, 203) (711, 203)\n",
      "(1423, 203) (711, 203)\n",
      "\n",
      "The training score is: 0.7253842898244499\n",
      "The cv score is: 0.6434609695610553\n",
      "\n",
      "50 iterations:\n",
      "LogisticRegression(C=1.0, class_weight=None, dual=False, fit_intercept=True,\n",
      "          intercept_scaling=1, max_iter=50, multi_class='ovr', n_jobs=1,\n",
      "          penalty='l2', random_state=None, solver='newton-cg', tol=1e-05,\n",
      "          verbose=0, warm_start=False)\n",
      "(1422, 203) (712, 203)\n",
      "(1423, 203) (711, 203)\n",
      "(1423, 203) (711, 203)\n",
      "\n",
      "The training score is: 0.7253842898244499\n",
      "The cv score is: 0.6434609695610553\n",
      "\n",
      "100 iterations:\n",
      "LogisticRegression(C=1.0, class_weight=None, dual=False, fit_intercept=True,\n",
      "          intercept_scaling=1, max_iter=100, multi_class='ovr', n_jobs=1,\n",
      "          penalty='l2', random_state=None, solver='newton-cg', tol=1e-05,\n",
      "          verbose=0, warm_start=False)\n",
      "(1422, 203) (712, 203)\n",
      "(1423, 203) (711, 203)\n",
      "(1423, 203) (711, 203)\n",
      "\n",
      "The training score is: 0.7253842898244499\n",
      "The cv score is: 0.6434609695610553\n",
      "\n"
     ]
    }
   ],
   "source": [
    "# set the iterations\n",
    "\n",
    "iteration = [1,5,10,15,20, 50, 100]\n",
    "\n",
    "kf = KFold(n_splits = 3, random_state = RANDOM_STATE)\n",
    "\n",
    "train_score = []\n",
    "cv_score = []\n",
    "\n",
    "# select a k:\n",
    "k_ndcg = 5\n",
    "\n",
    "for i, item in enumerate(iteration):\n",
    "    \n",
    "    print ('{} iterations:'.format(item))\n",
    "    \n",
    "    lr = LogisticRegression(C = 1.0, max_iter = item, tol = 1e-5, solver = 'newton-cg', multi_class = 'ovr')\n",
    "    #print coefficients   \n",
    "    print (lr)\n",
    "    \n",
    "    train_score_iter = []\n",
    "    cv_score_iter = []\n",
    "\n",
    "    for train_index, test_index in kf.split(xtrain_new, ytrain_new):\n",
    "\n",
    "        X_train, X_test = xtrain_new[train_index, :], xtrain_new[test_index, :]\n",
    "        y_train, y_test = ytrain_new[train_index], ytrain_new[test_index]\n",
    "\n",
    "        print (X_train.shape, X_test.shape)\n",
    "        \n",
    "        lr.fit(X_train, y_train)\n",
    "\n",
    "        y_pred = lr.predict_proba(X_test)\n",
    "\n",
    "        # for binary classification: we used to use f1 score, precision, recall, auc score.\n",
    "        # here for Airbnb we use the ndcg evaluation. \n",
    "\n",
    "        train_ndcg_score = ndcg_score(y_train, lr.predict_proba(X_train), k = k_ndcg)\n",
    "        cv_ndcg_score = ndcg_score(y_test, y_pred, k = k_ndcg)\n",
    "\n",
    "        \n",
    "        train_score_iter.append(train_ndcg_score)\n",
    "        cv_score_iter.append(cv_ndcg_score)\n",
    "        \n",
    "    train_score.append(np.mean(train_score_iter))\n",
    "    cv_score.append(np.mean(cv_score_iter))\n",
    "    \n",
    "    print (\"\\nThe training score is: {}\".format(np.mean(train_score_iter)))\n",
    "    print (\"The cv score is: {}\\n\".format(np.mean(cv_score_iter)))"
   ]
  },
  {
   "cell_type": "code",
   "execution_count": 18,
   "metadata": {},
   "outputs": [
    {
     "data": {
      "text/plain": [
       "array([ 7,  7, 10, ..., 10,  2,  5])"
      ]
     },
     "execution_count": 18,
     "metadata": {},
     "output_type": "execute_result"
    }
   ],
   "source": [
    "y_train"
   ]
  },
  {
   "cell_type": "code",
   "execution_count": 19,
   "metadata": {},
   "outputs": [
    {
     "data": {
      "image/png": "[encoded data removed]",
      "text/plain": [
       "<matplotlib.figure.Figure at 0x11b155278>"
      ]
     },
     "metadata": {},
     "output_type": "display_data"
    }
   ],
   "source": [
    "ymin = np.min(cv_score) - 0.05\n",
    "ymax = np.max(train_score) + 0.05\n",
    "\n",
    "plt.figure(figsize = (9, 4))\n",
    "plt.plot(iteration, train_score, 'ro-', label = 'training')\n",
    "plt.plot(iteration, cv_score, 'b*-', label = 'Cross-validation')\n",
    "plt.xlabel(\"iterations\")\n",
    "plt.ylabel(\"Score\")\n",
    "plt.xlim(-5, np.max(iteration) + 10)\n",
    "plt.ylim(ymin, ymax)\n",
    "plt.plot(np.linspace(20, 20, 50), np.linspace(ymin, ymax, 50), 'g--')\n",
    "plt.legend(loc = 'lower right', fontsize = 12)\n",
    "plt.title(\"Score vs iteration learning curve\")\n",
    "\n",
    "plt.tight_layout()"
   ]
  },
  {
   "cell_type": "markdown",
   "metadata": {},
   "source": [
    "## 1.2 Varying data size"
   ]
  },
  {
   "cell_type": "code",
   "execution_count": null,
   "metadata": {},
   "outputs": [],
   "source": [
    "# Chaning the sampling size\n",
    "# set the iter to the best iteration: iter = 20\n",
    "\n",
    "perc = [0.01, 0.02, 0.05, 0.1, 0.2, 0.5, 1]\n",
    "#结果显示20%数据之后基本上就不变了\n",
    "\n",
    "kf = KFold(n_splits = 3, random_state = RANDOM_STATE)\n",
    "\n",
    "train_score = []\n",
    "cv_score = []\n",
    "\n",
    "# select a k:\n",
    "k_ndcg = 5\n",
    "\n",
    "for i, item in enumerate(perc):\n",
    "    \n",
    "    print '{}% of the data'.format(int(item * 100))\n",
    "    \n",
    "    lr = LogisticRegression(C = 1.0, max_iter = 20, tol = 1e-6, solver = 'newton-cg', multi_class = 'ovr')\n",
    "        \n",
    "    print lr\n",
    "    \n",
    "    train_score_iter = []\n",
    "    cv_score_iter = []\n",
    "    \n",
    "    n = int(xtrain_new.shape[0] * item)\n",
    "    xtrain_perc = xtrain_new[: n, :]\n",
    "    ytrain_perc = ytrain_new[: n]\n",
    "\n",
    "\n",
    "    for train_index, test_index in kf.split(xtrain_perc, ytrain_perc):\n",
    "        \n",
    "        X_train, X_test = xtrain_perc[train_index, :], xtrain_perc[test_index, :]\n",
    "        y_train, y_test = ytrain_perc[train_index], ytrain_perc[test_index]\n",
    "\n",
    "        print X_train.shape, X_test.shape\n",
    "        \n",
    "        lr.fit(X_train, y_train)\n",
    "\n",
    "        y_pred = lr.predict_proba(X_test)\n",
    "\n",
    "        # for binary classification: we used to use f1 score, precision, recall, auc score.\n",
    "        # here for Airbnb we use the ndcg evaluation. \n",
    "\n",
    "        train_ndcg_score = ndcg_score(y_train, lr.predict_proba(X_train), k = k_ndcg)\n",
    "        cv_ndcg_score = ndcg_score(y_test, y_pred, k = k_ndcg)\n",
    "\n",
    "        train_score_iter.append(train_ndcg_score)\n",
    "        cv_score_iter.append(cv_ndcg_score)\n",
    "        \n",
    "    train_score.append(np.mean(train_score_iter))\n",
    "    cv_score.append(np.mean(cv_score_iter))\n",
    "    \n",
    "    print \"\\nThe training score is: {}\".format(np.mean(train_score_iter))\n",
    "    print \"The cv score is: {}\\n\".format(np.mean(cv_score_iter))"
   ]
  },
  {
   "cell_type": "code",
   "execution_count": 46,
   "metadata": {},
   "outputs": [
    {
     "data": {
      "image/png": "[encoded data removed]",
      "text/plain": [
       "<matplotlib.figure.Figure at 0x7fa0de24aa90>"
      ]
     },
     "metadata": {},
     "output_type": "display_data"
    }
   ],
   "source": [
    "ymin = np.min(cv_score) - 0.1\n",
    "ymax = np.max(train_score) + 0.1\n",
    "\n",
    "plt.figure(figsize = (9, 4))\n",
    "plt.plot(np.array(perc) * 100, train_score, 'ro-', label = 'training')\n",
    "plt.plot(np.array(perc) * 100, cv_score, 'bo-', label = 'Cross-validation')\n",
    "plt.xlabel(\"Sample size (unit %)\")\n",
    "plt.ylabel(\"Score\")\n",
    "plt.xlim(-5, np.max(perc) * 100 + 10)\n",
    "plt.ylim(ymin, ymax)\n",
    "\n",
    "plt.legend(loc = 'lower right', fontsize = 12)\n",
    "plt.title(\"Score vs sample size learning curve\")\n",
    "\n",
    "plt.tight_layout()"
   ]
  },
  {
   "cell_type": "code",
   "execution_count": 20,
   "metadata": {
    "collapsed": true
   },
   "outputs": [],
   "source": [
    "from sklearn.ensemble import AdaBoostClassifier, BaggingClassifier, ExtraTreesClassifier\n",
    "from sklearn.ensemble import GradientBoostingClassifier, RandomForestClassifier\n",
    "from sklearn.tree import DecisionTreeClassifier\n",
    "from sklearn.ensemble import *\n",
    "from sklearn.svm import SVC, LinearSVC, NuSVC"
   ]
  },
  {
   "cell_type": "markdown",
   "metadata": {},
   "source": [
    "# 2. Tree method"
   ]
  },
  {
   "cell_type": "code",
   "execution_count": 21,
   "metadata": {},
   "outputs": [],
   "source": [
    "LEARNING_RATE = 0.1\n",
    "N_ESTIMATORS = 50\n",
    "RANDOM_STATE = 2017\n",
    "MAX_DEPTH = 9\n",
    "\n",
    "clf_tree ={\n",
    "    'DTree': DecisionTreeClassifier(max_depth = MAX_DEPTH,\n",
    "                                    random_state = RANDOM_STATE),\n",
    "    \n",
    "    'RF': RandomForestClassifier(n_estimators = N_ESTIMATORS,\n",
    "                                 max_depth = MAX_DEPTH,\n",
    "                                 random_state = RANDOM_STATE),\n",
    "    \n",
    "    'AdaBoost': AdaBoostClassifier(n_estimators = N_ESTIMATORS,\n",
    "                                   learning_rate = LEARNING_RATE,\n",
    "                                   random_state = RANDOM_STATE),\n",
    "    \n",
    "    'Bagging': BaggingClassifier(n_estimators = N_ESTIMATORS,\n",
    "                                 random_state = RANDOM_STATE),\n",
    "    \n",
    "    'ExtraTree': ExtraTreesClassifier(max_depth = MAX_DEPTH,\n",
    "                                      n_estimators = N_ESTIMATORS,\n",
    "                                      random_state = RANDOM_STATE),\n",
    "    \n",
    "    'GraBoost': GradientBoostingClassifier(learning_rate = LEARNING_RATE,\n",
    "                                           max_depth = MAX_DEPTH,\n",
    "                                           n_estimators = N_ESTIMATORS,\n",
    "                                           random_state = RANDOM_STATE)\n",
    "}"
   ]
  },
  {
   "cell_type": "code",
   "execution_count": 36,
   "metadata": {},
   "outputs": [
    {
     "name": "stdout",
     "output_type": "stream",
     "text": [
      "DecisionTreeClassifier(class_weight=None, criterion='gini', max_depth=9,\n",
      "            max_features=None, max_leaf_nodes=None,\n",
      "            min_impurity_decrease=0.0, min_impurity_split=None,\n",
      "            min_samples_leaf=1, min_samples_split=2,\n",
      "            min_weight_fraction_leaf=0.0, presort=False, random_state=2017,\n",
      "            splitter='best')\n",
      "ExtraTreesClassifier(bootstrap=False, class_weight=None, criterion='gini',\n",
      "           max_depth=9, max_features='auto', max_leaf_nodes=None,\n",
      "           min_impurity_decrease=0.0, min_impurity_split=None,\n",
      "           min_samples_leaf=1, min_samples_split=2,\n",
      "           min_weight_fraction_leaf=0.0, n_estimators=50, n_jobs=1,\n",
      "           oob_score=False, random_state=2017, verbose=0, warm_start=False)\n",
      "AdaBoostClassifier(algorithm='SAMME.R', base_estimator=None,\n",
      "          learning_rate=0.1, n_estimators=50, random_state=2017)\n",
      "GradientBoostingClassifier(criterion='friedman_mse', init=None,\n",
      "              learning_rate=0.1, loss='deviance', max_depth=9,\n",
      "              max_features=None, max_leaf_nodes=None,\n",
      "              min_impurity_decrease=0.0, min_impurity_split=None,\n",
      "              min_samples_leaf=1, min_samples_split=2,\n",
      "              min_weight_fraction_leaf=0.0, n_estimators=50,\n",
      "              presort='auto', random_state=2017, subsample=1.0, verbose=0,\n",
      "              warm_start=False)\n",
      "RandomForestClassifier(bootstrap=True, class_weight=None, criterion='gini',\n",
      "            max_depth=9, max_features='auto', max_leaf_nodes=None,\n",
      "            min_impurity_decrease=0.0, min_impurity_split=None,\n",
      "            min_samples_leaf=1, min_samples_split=2,\n",
      "            min_weight_fraction_leaf=0.0, n_estimators=50, n_jobs=1,\n",
      "            oob_score=False, random_state=2017, verbose=0,\n",
      "            warm_start=False)\n",
      "BaggingClassifier(base_estimator=None, bootstrap=True,\n",
      "         bootstrap_features=False, max_features=1.0, max_samples=1.0,\n",
      "         n_estimators=50, n_jobs=1, oob_score=False, random_state=2017,\n",
      "         verbose=0, warm_start=False)\n"
     ]
    }
   ],
   "source": [
    "for key in clf_tree.keys():\n",
    "    \n",
    "    print (clf_tree.get(key))"
   ]
  },
  {
   "cell_type": "code",
   "execution_count": 22,
   "metadata": {
    "scrolled": true
   },
   "outputs": [
    {
     "name": "stdout",
     "output_type": "stream",
     "text": [
      "ExtraTreesClassifier(bootstrap=False, class_weight=None, criterion='gini',\n",
      "           max_depth=9, max_features='auto', max_leaf_nodes=None,\n",
      "           min_impurity_decrease=0.0, min_impurity_split=None,\n",
      "           min_samples_leaf=1, min_samples_split=2,\n",
      "           min_weight_fraction_leaf=0.0, n_estimators=50, n_jobs=1,\n",
      "           oob_score=False, random_state=2017, verbose=0, warm_start=False)\n",
      "(1422, 203) (712, 203)\n",
      "(1423, 203) (711, 203)\n",
      "(1423, 203) (711, 203)\n",
      "\n",
      "The training score is: 0.8056400302717445\n",
      "The cv score is: 0.6939823831317735\n",
      "\n",
      "DecisionTreeClassifier(class_weight=None, criterion='gini', max_depth=9,\n",
      "            max_features=None, max_leaf_nodes=None,\n",
      "            min_impurity_decrease=0.0, min_impurity_split=None,\n",
      "            min_samples_leaf=1, min_samples_split=2,\n",
      "            min_weight_fraction_leaf=0.0, presort=False, random_state=2017,\n",
      "            splitter='best')\n",
      "(1422, 203) (712, 203)\n",
      "(1423, 203) (711, 203)\n",
      "(1423, 203) (711, 203)\n",
      "\n",
      "The training score is: 0.7916933326353514\n",
      "The cv score is: 0.6582898084876736\n",
      "\n",
      "RandomForestClassifier(bootstrap=True, class_weight=None, criterion='gini',\n",
      "            max_depth=9, max_features='auto', max_leaf_nodes=None,\n",
      "            min_impurity_decrease=0.0, min_impurity_split=None,\n",
      "            min_samples_leaf=1, min_samples_split=2,\n",
      "            min_weight_fraction_leaf=0.0, n_estimators=50, n_jobs=1,\n",
      "            oob_score=False, random_state=2017, verbose=0,\n",
      "            warm_start=False)\n",
      "(1422, 203) (712, 203)\n",
      "(1423, 203) (711, 203)\n",
      "(1423, 203) (711, 203)\n",
      "\n",
      "The training score is: 0.8054422383906013\n",
      "The cv score is: 0.6922604442943406\n",
      "\n",
      "GradientBoostingClassifier(criterion='friedman_mse', init=None,\n",
      "              learning_rate=0.1, loss='deviance', max_depth=9,\n",
      "              max_features=None, max_leaf_nodes=None,\n",
      "              min_impurity_decrease=0.0, min_impurity_split=None,\n",
      "              min_samples_leaf=1, min_samples_split=2,\n",
      "              min_weight_fraction_leaf=0.0, n_estimators=50,\n",
      "              presort='auto', random_state=2017, subsample=1.0, verbose=0,\n",
      "              warm_start=False)\n",
      "(1422, 203) (712, 203)\n",
      "(1423, 203) (711, 203)\n",
      "(1423, 203) (711, 203)\n",
      "\n",
      "The training score is: 0.9016323519769535\n",
      "The cv score is: 0.6238066082747347\n",
      "\n",
      "BaggingClassifier(base_estimator=None, bootstrap=True,\n",
      "         bootstrap_features=False, max_features=1.0, max_samples=1.0,\n",
      "         n_estimators=50, n_jobs=1, oob_score=False, random_state=2017,\n",
      "         verbose=0, warm_start=False)\n",
      "(1422, 203) (712, 203)\n",
      "(1423, 203) (711, 203)\n",
      "(1423, 203) (711, 203)\n",
      "\n",
      "The training score is: 0.9021376335183389\n",
      "The cv score is: 0.6797346307108479\n",
      "\n",
      "AdaBoostClassifier(algorithm='SAMME.R', base_estimator=None,\n",
      "          learning_rate=0.1, n_estimators=50, random_state=2017)\n",
      "(1422, 203) (712, 203)\n",
      "(1423, 203) (711, 203)\n",
      "(1423, 203) (711, 203)\n",
      "\n",
      "The training score is: 0.6762124855663757\n",
      "The cv score is: 0.6668370378745481\n",
      "\n"
     ]
    }
   ],
   "source": [
    "train_score = []\n",
    "cv_score = []\n",
    "\n",
    "kf = KFold(n_splits = 3, random_state = RANDOM_STATE)\n",
    "\n",
    "k_ndcg = 5\n",
    "\n",
    "for key in clf_tree.keys():\n",
    "    \n",
    "    clf = clf_tree.get(key)\n",
    "    print (clf)\n",
    "    \n",
    "    train_score_iter = []\n",
    "    cv_score_iter = []\n",
    "\n",
    "    for train_index, test_index in kf.split(xtrain_new, ytrain_new):\n",
    "\n",
    "        X_train, X_test = xtrain_new[train_index, :], xtrain_new[test_index, :]\n",
    "        y_train, y_test = ytrain_new[train_index], ytrain_new[test_index]\n",
    "\n",
    "        print (X_train.shape, X_test.shape)\n",
    "        \n",
    "        clf.fit(X_train, y_train)\n",
    "\n",
    "        y_pred = clf.predict_proba(X_test)\n",
    "\n",
    "        # for binary classification: we used to use f1 score, precision, recall, auc score.\n",
    "        # here for Airbnb we use the ndcg evaluation. \n",
    "\n",
    "        train_ndcg_score = ndcg_score(y_train, clf.predict_proba(X_train), k = k_ndcg)\n",
    "        cv_ndcg_score = ndcg_score(y_test, y_pred, k = k_ndcg)\n",
    "\n",
    "        train_score_iter.append(train_ndcg_score)\n",
    "        cv_score_iter.append(cv_ndcg_score)\n",
    "        \n",
    "    train_score.append(np.mean(train_score_iter))\n",
    "    cv_score.append(np.mean(cv_score_iter))\n",
    "    \n",
    "    print (\"\\nThe training score is: {}\".format(np.mean(train_score_iter)))\n",
    "    print (\"The cv score is: {}\\n\".format(np.mean(cv_score_iter)))"
   ]
  },
  {
   "cell_type": "code",
   "execution_count": 23,
   "metadata": {
    "collapsed": true
   },
   "outputs": [],
   "source": [
    "train_score_tree = train_score\n",
    "cv_score_tree = cv_score"
   ]
  },
  {
   "cell_type": "code",
   "execution_count": 39,
   "metadata": {
    "collapsed": true
   },
   "outputs": [
    {
     "data": {
      "image/png": "[encoded data removed]",
      "text/plain": [
       "<matplotlib.figure.Figure at 0x1202ff240>"
      ]
     },
     "metadata": {},
     "output_type": "display_data"
    }
   ],
   "source": [
    "ymin = np.min(cv_score)-0.05\n",
    "ymax = np.max(train_score)+0.05\n",
    "\n",
    "x_ticks = clf_tree.keys()\n",
    "\n",
    "plt.figure(figsize=(8,5))\n",
    "plt.plot(range(len(x_ticks)), train_score_tree, 'ro-', label = 'training')\n",
    "plt.plot(range(len(x_ticks)),cv_score_tree, 'bo-', label = 'Cross-validation')\n",
    "\n",
    "plt.xticks(range(len(x_ticks)),x_ticks,rotation = 45, fontsize = 10)\n",
    "plt.xlabel(\"Tree method\", fontsize = 12)\n",
    "plt.ylabel(\"Score\", fontsize = 12)\n",
    "plt.xlim(-0.5, 5.5)\n",
    "plt.ylim(ymin, ymax)\n",
    "\n",
    "plt.legend(loc = 'best', fontsize = 12)\n",
    "plt.title(\"Different tree methods\")\n",
    "\n",
    "plt.tight_layout()"
   ]
  },
  {
   "cell_type": "markdown",
   "metadata": {},
   "source": [
    "# 3. RandomForestClassifier"
   ]
  },
  {
   "cell_type": "code",
   "execution_count": 24,
   "metadata": {},
   "outputs": [
    {
     "ename": "SyntaxError",
     "evalue": "invalid syntax (<ipython-input-24-36b594364e68>, line 16)",
     "output_type": "error",
     "traceback": [
      "\u001b[0;36m  File \u001b[0;32m\"<ipython-input-24-36b594364e68>\"\u001b[0;36m, line \u001b[0;32m16\u001b[0m\n\u001b[0;31m    print \"the num of estimator in RF is:{}\".format(item)\u001b[0m\n\u001b[0m                                           ^\u001b[0m\n\u001b[0;31mSyntaxError\u001b[0m\u001b[0;31m:\u001b[0m invalid syntax\n"
     ]
    }
   ],
   "source": [
    "# estimator numbers:\n",
    "\n",
    "#num_estimators = [10, 50, 100, 200, 500, 1000]\n",
    "num_estimators = 10 + np.arange(10) * 20\n",
    "\n",
    "train_score_rf = []\n",
    "cv_score_rf = []\n",
    "\n",
    "X_train, X_test, y_train, y_test = train_test_split(xtrain_new, ytrain_new, test_size = 0.2, \n",
    "                                                    random_stat e= RANDOM_STATE)\n",
    "\n",
    "k_ndcg = 5\n",
    "\n",
    "for item in num_estimators:\n",
    "    \n",
    "    print \"the num of estimator in RF is:{}\".format(item)\n",
    "    \n",
    "    clf = RandomForestClassifier(n_estimators = item, \n",
    "                                 random_state = RANDOM_STATE, \n",
    "                                 max_depth = MAX_DEPTH)\n",
    "    print clf\n",
    "\n",
    "        \n",
    "    clf.fit(X_train, y_train)\n",
    "\n",
    "    y_pred = clf.predict_proba(X_test)\n",
    "\n",
    "    # for binary classification: we used to use f1 score, precision, recall, auc score.\n",
    "    # here for Airbnb we use the ndcg evaluation. \n",
    "\n",
    "    train_ndcg_score = ndcg_score(y_train, clf.predict_proba(X_train), k = k_ndcg)\n",
    "    cv_ndcg_score = ndcg_score(y_test, y_pred, k = k_ndcg)\n",
    "\n",
    "    train_score_rf.append(train_ndcg_score)\n",
    "    cv_score_rf.append(cv_ndcg_score)\n",
    "    \n",
    "    print (\"\\nThe training score is: {}\".format(train_ndcg_score))\n",
    "    print (\"The cv score is: {}\\n\".format(cv_ndcg_score))"
   ]
  },
  {
   "cell_type": "code",
   "execution_count": 55,
   "metadata": {},
   "outputs": [
    {
     "data": {
      "image/png": "[encoded data removed]",
      "text/plain": [
       "<matplotlib.figure.Figure at 0x7fa0e32a5090>"
      ]
     },
     "metadata": {},
     "output_type": "display_data"
    }
   ],
   "source": [
    "plt.figure(figsize = (8, 5))\n",
    "plt.plot(num_estimators, train_score_rf, 'ro-', label = 'training')\n",
    "plt.plot(num_estimators,cv_score_rf, 'bo-', label = 'Cross-validation')\n",
    "\n",
    "plt.xlabel(\"# of estimator in RandomForest\", fontsize = 12)\n",
    "plt.ylabel(\"Score\", fontsize = 12)\n",
    "plt.xlim(0, np.max(num_estimators)+20)\n",
    "\n",
    "\n",
    "plt.legend(loc = 'best', fontsize = 12)\n",
    "plt.title(\"RF learning curve\")\n",
    "\n",
    "plt.tight_layout()"
   ]
  },
  {
   "cell_type": "code",
   "execution_count": 172,
   "metadata": {
    "collapsed": true
   },
   "outputs": [],
   "source": [
    "#  play with other parameters"
   ]
  },
  {
   "cell_type": "markdown",
   "metadata": {},
   "source": [
    "# 4. SVM"
   ]
  },
  {
   "cell_type": "code",
   "execution_count": 25,
   "metadata": {},
   "outputs": [],
   "source": [
    "TOL = 1e-4\n",
    "MAX_ITER = 1000\n",
    "\n",
    "\n",
    "clf_svm = {\n",
    "    \n",
    "    'SVM-rbf': SVC(kernel = 'rbf',\n",
    "                   max_iter = MAX_ITER,\n",
    "                   tol = TOL, random_state = RANDOM_STATE,\n",
    "                   decision_function_shape = 'ovr'),     # solver : libsvm\n",
    "    \n",
    "    'SVM-poly': SVC(kernel = 'poly',\n",
    "                   max_iter = MAX_ITER,\n",
    "                   tol = TOL, random_state = RANDOM_STATE,\n",
    "                   decision_function_shape = 'ovr'),      # solver : libsvm\n",
    "    \n",
    "    'SVM-linear': SVC(kernel = 'linear',\n",
    "                      max_iter = MAX_ITER,\n",
    "                      tol = TOL, \n",
    "                      random_state = RANDOM_STATE,\n",
    "                      decision_function_shape = 'ovr'),   # solver : libsvm\n",
    "    \n",
    "    'LinearSVC': LinearSVC(max_iter = MAX_ITER,\n",
    "                            tol = TOL,\n",
    "                            random_state = RANDOM_STATE,\n",
    "                            multi_class = 'ovr')        # solver: liblinear\n",
    "}"
   ]
  },
  {
   "cell_type": "code",
   "execution_count": 26,
   "metadata": {},
   "outputs": [
    {
     "name": "stdout",
     "output_type": "stream",
     "text": [
      "LinearSVC(C=1.0, class_weight=None, dual=True, fit_intercept=True,\n",
      "     intercept_scaling=1, loss='squared_hinge', max_iter=1000,\n",
      "     multi_class='ovr', penalty='l2', random_state=2017, tol=0.0001,\n",
      "     verbose=0)\n",
      "SVC(C=1.0, cache_size=200, class_weight=None, coef0=0.0,\n",
      "  decision_function_shape='ovr', degree=3, gamma='auto', kernel='linear',\n",
      "  max_iter=1000, probability=False, random_state=2017, shrinking=True,\n",
      "  tol=0.0001, verbose=False)\n",
      "SVC(C=1.0, cache_size=200, class_weight=None, coef0=0.0,\n",
      "  decision_function_shape='ovr', degree=3, gamma='auto', kernel='rbf',\n",
      "  max_iter=1000, probability=False, random_state=2017, shrinking=True,\n",
      "  tol=0.0001, verbose=False)\n",
      "SVC(C=1.0, cache_size=200, class_weight=None, coef0=0.0,\n",
      "  decision_function_shape='ovr', degree=3, gamma='auto', kernel='poly',\n",
      "  max_iter=1000, probability=False, random_state=2017, shrinking=True,\n",
      "  tol=0.0001, verbose=False)\n"
     ]
    }
   ],
   "source": [
    "for key in clf_svm.keys():\n",
    "    \n",
    "    print (clf_svm.get(key))"
   ]
  },
  {
   "cell_type": "code",
   "execution_count": 27,
   "metadata": {
    "scrolled": true
   },
   "outputs": [
    {
     "name": "stdout",
     "output_type": "stream",
     "text": [
      "LinearSVC(C=1.0, class_weight=None, dual=True, fit_intercept=True,\n",
      "     intercept_scaling=1, loss='squared_hinge', max_iter=1000,\n",
      "     multi_class='ovr', penalty='l2', random_state=2017, tol=0.0001,\n",
      "     verbose=0)\n",
      "(1422, 203) (712, 203)\n",
      "(1423, 203) (711, 203)\n",
      "(1423, 203) (711, 203)\n",
      "\n",
      "The training score is: 0.7211383367308996\n",
      "The cv score is: 0.40473254124748914\n",
      "\n",
      "SVC(C=1.0, cache_size=200, class_weight=None, coef0=0.0,\n",
      "  decision_function_shape='ovr', degree=3, gamma='auto', kernel='linear',\n",
      "  max_iter=1000, probability=False, random_state=2017, shrinking=True,\n",
      "  tol=0.0001, verbose=False)\n",
      "(1422, 203) (712, 203)\n"
     ]
    },
    {
     "name": "stderr",
     "output_type": "stream",
     "text": [
      "/Users/zepeng/anaconda/lib/python3.5/site-packages/sklearn/svm/base.py:218: ConvergenceWarning: Solver terminated early (max_iter=1000).  Consider pre-processing your data with StandardScaler or MinMaxScaler.\n",
      "  % self.max_iter, ConvergenceWarning)\n"
     ]
    },
    {
     "name": "stdout",
     "output_type": "stream",
     "text": [
      "(1423, 203) (711, 203)\n",
      "(1423, 203) (711, 203)\n",
      "\n",
      "The training score is: 0.6994043553248188\n",
      "The cv score is: 0.6469618129398517\n",
      "\n",
      "SVC(C=1.0, cache_size=200, class_weight=None, coef0=0.0,\n",
      "  decision_function_shape='ovr', degree=3, gamma='auto', kernel='rbf',\n",
      "  max_iter=1000, probability=False, random_state=2017, shrinking=True,\n",
      "  tol=0.0001, verbose=False)\n",
      "(1422, 203) (712, 203)\n"
     ]
    },
    {
     "name": "stderr",
     "output_type": "stream",
     "text": [
      "/Users/zepeng/anaconda/lib/python3.5/site-packages/sklearn/svm/base.py:218: ConvergenceWarning: Solver terminated early (max_iter=1000).  Consider pre-processing your data with StandardScaler or MinMaxScaler.\n",
      "  % self.max_iter, ConvergenceWarning)\n"
     ]
    },
    {
     "name": "stdout",
     "output_type": "stream",
     "text": [
      "(1423, 203) (711, 203)\n",
      "(1423, 203) (711, 203)\n",
      "\n",
      "The training score is: 0.7432618578541538\n",
      "The cv score is: 0.718437726446267\n",
      "\n",
      "SVC(C=1.0, cache_size=200, class_weight=None, coef0=0.0,\n",
      "  decision_function_shape='ovr', degree=3, gamma='auto', kernel='poly',\n",
      "  max_iter=1000, probability=False, random_state=2017, shrinking=True,\n",
      "  tol=0.0001, verbose=False)\n",
      "(1422, 203) (712, 203)\n",
      "(1423, 203) (711, 203)\n"
     ]
    },
    {
     "name": "stderr",
     "output_type": "stream",
     "text": [
      "/Users/zepeng/anaconda/lib/python3.5/site-packages/sklearn/svm/base.py:218: ConvergenceWarning: Solver terminated early (max_iter=1000).  Consider pre-processing your data with StandardScaler or MinMaxScaler.\n",
      "  % self.max_iter, ConvergenceWarning)\n"
     ]
    },
    {
     "name": "stdout",
     "output_type": "stream",
     "text": [
      "(1423, 203) (711, 203)\n",
      "\n",
      "The training score is: 0.6764312341137003\n",
      "The cv score is: 0.6600916599299728\n",
      "\n"
     ]
    }
   ],
   "source": [
    "train_score_svm = []\n",
    "cv_score_svm = []\n",
    "\n",
    "kf = KFold(n_splits = 3, random_state = RANDOM_STATE)\n",
    "\n",
    "k_ndcg = 5\n",
    "\n",
    "for key in clf_svm.keys():\n",
    "    \n",
    "    clf = clf_svm.get(key)\n",
    "    print (clf)\n",
    "    \n",
    "    train_score_iter = []\n",
    "    cv_score_iter = []\n",
    "\n",
    "    for train_index, test_index in kf.split(xtrain_new, ytrain_new):\n",
    "\n",
    "        X_train, X_test = xtrain_new[train_index, :], xtrain_new[test_index, :]\n",
    "        y_train, y_test = ytrain_new[train_index], ytrain_new[test_index]\n",
    "\n",
    "        print (X_train.shape, X_test.shape)\n",
    "        \n",
    "        clf.fit(X_train, y_train)\n",
    "\n",
    "        y_pred = clf.decision_function(X_test)\n",
    "\n",
    "        # for binary classification: we used to use f1 score, precision, recall, auc score.\n",
    "        # here for Airbnb we use the ndcg evaluation. \n",
    "\n",
    "        train_ndcg_score = ndcg_score(y_train, clf.decision_function(X_train), k = k_ndcg)\n",
    "        cv_ndcg_score = ndcg_score(y_test, y_pred, k = k_ndcg)\n",
    "\n",
    "        train_score_iter.append(train_ndcg_score)\n",
    "        cv_score_iter.append(cv_ndcg_score)\n",
    "        \n",
    "    train_score_svm.append(np.mean(train_score_iter))\n",
    "    cv_score_svm.append(np.mean(cv_score_iter))\n",
    "    \n",
    "    print (\"\\nThe training score is: {}\".format(np.mean(train_score_iter)))\n",
    "    print (\"The cv score is: {}\\n\".format(np.mean(cv_score_iter)))"
   ]
  },
  {
   "cell_type": "code",
   "execution_count": 46,
   "metadata": {},
   "outputs": [
    {
     "data": {
      "image/png": "[encoded data removed]",
      "text/plain": [
       "<matplotlib.figure.Figure at 0x10715e208>"
      ]
     },
     "metadata": {},
     "output_type": "display_data"
    }
   ],
   "source": [
    "ymin = np.min(cv_score_svm) - 0.05\n",
    "ymax = np.max(train_score_svm) + 0.05\n",
    "\n",
    "x_ticks = clf_svm.keys()\n",
    "\n",
    "plt.figure(figsize = (8, 5))\n",
    "plt.plot(range(len(x_ticks)), train_score_svm, 'ro-', label = 'training')\n",
    "plt.plot(range(len(x_ticks)),cv_score_svm, 'bo-', label = 'Cross-validation')\n",
    "\n",
    "plt.xticks(range(len(x_ticks)),x_ticks,rotation = 45, fontsize = 10)\n",
    "plt.xlabel(\"Tree method\", fontsize = 12)\n",
    "plt.ylabel(\"Score\", fontsize = 12)\n",
    "plt.xlim(-0.5, 3.5)\n",
    "plt.ylim(ymin, ymax)\n",
    "\n",
    "plt.legend(loc = 'best', fontsize = 12)\n",
    "plt.title(\"Different SVM methods\")\n",
    "\n",
    "plt.tight_layout()"
   ]
  },
  {
   "cell_type": "markdown",
   "metadata": {},
   "source": [
    "# 5. Xgboost"
   ]
  },
  {
   "cell_type": "code",
   "execution_count": 2,
   "metadata": {},
   "outputs": [],
   "source": [
    "import xgboost as xgb"
   ]
  },
  {
   "cell_type": "code",
   "execution_count": 29,
   "metadata": {
    "collapsed": true
   },
   "outputs": [],
   "source": [
    "def customized_eval(preds, dtrain):\n",
    "    labels = dtrain.get_label()\n",
    "    top = []\n",
    "    for i in range(preds.shape[0]):\n",
    "        top.append(np.argsort(preds[i])[: : -1][: 5])\n",
    "    mat = np.reshape(np.repeat(labels,np.shape(top)[1]) == np.array(top).ravel(),np.array(top).shape).astype(int)\n",
    "    score = np.mean(np.sum(mat / np.log2(np.arange(2, mat.shape[1] + 2)),axis = 1))\n",
    "    return 'ndcg5', score"
   ]
  },
  {
   "cell_type": "code",
   "execution_count": 30,
   "metadata": {},
   "outputs": [
    {
     "name": "stdout",
     "output_type": "stream",
     "text": [
      "{'seed': 2017, 'num_class': 12, 'eta': 0.3, 'colsample_bytree': 0.6, 'subsample': 0.8, 'objective': 'multi:softprob', 'max_depth': 6}\n"
     ]
    }
   ],
   "source": [
    "# xgboost parameters\n",
    "\n",
    "NUM_XGB = 200\n",
    "\n",
    "params = {}\n",
    "params['colsample_bytree'] = 0.6\n",
    "params['max_depth'] = 6\n",
    "params['subsample'] = 0.8\n",
    "params['eta'] = 0.3\n",
    "params['seed'] = RANDOM_STATE\n",
    "params['num_class'] = 12\n",
    "params['objective'] = 'multi:softprob'   # output the probability instead of class. \n",
    "\n",
    "print (params)"
   ]
  },
  {
   "cell_type": "code",
   "execution_count": 31,
   "metadata": {},
   "outputs": [
    {
     "name": "stdout",
     "output_type": "stream",
     "text": [
      "(1422, 203) (712, 203)\n",
      "[0]\ttrain-ndcg5:0.803929\ttest-ndcg5:0.756891\n",
      "Multiple eval metrics have been passed: 'test-ndcg5' will be used for early stopping.\n",
      "\n",
      "Will train until test-ndcg5 hasn't improved in 5 rounds.\n",
      "[3]\ttrain-ndcg5:0.838447\ttest-ndcg5:0.755209\n",
      "[6]\ttrain-ndcg5:0.861355\ttest-ndcg5:0.747769\n",
      "Stopping. Best iteration:\n",
      "[1]\ttrain-ndcg5:0.827819\ttest-ndcg5:0.765599\n",
      "\n",
      "(1423, 203) (711, 203)\n",
      "[0]\ttrain-ndcg5:0.813364\ttest-ndcg5:0.768433\n",
      "Multiple eval metrics have been passed: 'test-ndcg5' will be used for early stopping.\n",
      "\n",
      "Will train until test-ndcg5 hasn't improved in 5 rounds.\n",
      "[3]\ttrain-ndcg5:0.848257\ttest-ndcg5:0.763716\n",
      "Stopping. Best iteration:\n",
      "[0]\ttrain-ndcg5:0.813364\ttest-ndcg5:0.768433\n",
      "\n",
      "(1423, 203) (711, 203)\n",
      "[0]\ttrain-ndcg5:0.812423\ttest-ndcg5:0.760155\n",
      "Multiple eval metrics have been passed: 'test-ndcg5' will be used for early stopping.\n",
      "\n",
      "Will train until test-ndcg5 hasn't improved in 5 rounds.\n",
      "[3]\ttrain-ndcg5:0.845464\ttest-ndcg5:0.777263\n",
      "[6]\ttrain-ndcg5:0.863343\ttest-ndcg5:0.785363\n",
      "[9]\ttrain-ndcg5:0.874489\ttest-ndcg5:0.781737\n",
      "Stopping. Best iteration:\n",
      "[4]\ttrain-ndcg5:0.84802\ttest-ndcg5:0.785737\n",
      "\n",
      "\n",
      "The training score is: 0.8668743291564436\n",
      "The cv score is: 0.7642416610505437\n",
      "\n"
     ]
    }
   ],
   "source": [
    "train_score_iter = []\n",
    "cv_score_iter = []\n",
    "\n",
    "kf = KFold(n_splits = 3, random_state = RANDOM_STATE)\n",
    "\n",
    "k_ndcg = 5\n",
    "\n",
    "\n",
    "for train_index, test_index in kf.split(xtrain_new, ytrain_new):\n",
    "\n",
    "    X_train, X_test = xtrain_new[train_index, :], xtrain_new[test_index, :]\n",
    "    y_train, y_test = ytrain_new[train_index], ytrain_new[test_index]\n",
    "\n",
    "    print (X_train.shape, X_test.shape)\n",
    "    \n",
    "    train_xgb = xgb.DMatrix(X_train, label = y_train)\n",
    "    test_xgb = xgb.DMatrix(X_test, label = y_test)\n",
    "    \n",
    "    watchlist = [ (train_xgb,'train'), (test_xgb, 'test') ]\n",
    "\n",
    "    bst = xgb.train(params, \n",
    "                    train_xgb,\n",
    "                    NUM_XGB,\n",
    "                    watchlist,\n",
    "                    feval = customized_eval,\n",
    "                    verbose_eval = 3,\n",
    "                    early_stopping_rounds = 5)\n",
    "    \n",
    "    \n",
    "    #bst = xgb.train( params, dtrain, num_round, evallist )\n",
    "\n",
    "    y_pred = np.array(bst.predict(test_xgb))\n",
    "    y_pred_train = np.array(bst.predict(train_xgb))\n",
    "    \n",
    "    # for binary classification: we used to use f1 score, precision, recall, auc score.\n",
    "    # here for Airbnb we use the ndcg evaluation. \n",
    "\n",
    "    train_ndcg_score = ndcg_score(y_train, y_pred_train , k = k_ndcg)\n",
    "    cv_ndcg_score = ndcg_score(y_test, y_pred, k = k_ndcg)\n",
    "\n",
    "    train_score_iter.append(train_ndcg_score)\n",
    "    cv_score_iter.append(cv_ndcg_score)\n",
    "\n",
    "train_score_xgb = np.mean(train_score_iter)\n",
    "cv_score_xgb = np.mean(cv_score_iter)\n",
    "\n",
    "print (\"\\nThe training score is: {}\".format(train_score_xgb))\n",
    "print (\"The cv score is: {}\\n\".format(cv_score_xgb))"
   ]
  },
  {
   "cell_type": "markdown",
   "metadata": {
    "collapsed": true
   },
   "source": [
    "# 6. Model comparison"
   ]
  },
  {
   "cell_type": "code",
   "execution_count": 33,
   "metadata": {},
   "outputs": [
    {
     "data": {
      "text/plain": [
       "array([ 0.744     ,  0.69398238,  0.65828981,  0.69226044,  0.62380661,\n",
       "        0.67973463,  0.66683704,  0.40473254,  0.64696181,  0.71843773,\n",
       "        0.66009166,  0.76424166])"
      ]
     },
     "execution_count": 33,
     "metadata": {},
     "output_type": "execute_result"
    }
   ],
   "source": [
    "model_cvscore"
   ]
  },
  {
   "cell_type": "code",
   "execution_count": 34,
   "metadata": {},
   "outputs": [
    {
     "data": {
      "text/plain": [
       "array(['LinearReg',\n",
       "       dict_keys(['ExtraTree', 'DTree', 'RF', 'GraBoost', 'Bagging', 'AdaBoost']),\n",
       "       dict_keys(['LinearSVC', 'SVM-linear', 'SVM-rbf', 'SVM-poly']),\n",
       "       'Xgboost'], dtype=object)"
      ]
     },
     "execution_count": 34,
     "metadata": {},
     "output_type": "execute_result"
    }
   ],
   "source": [
    "model_name"
   ]
  },
  {
   "cell_type": "code",
   "execution_count": 35,
   "metadata": {},
   "outputs": [
    {
     "data": {
      "image/png": "[encoded data removed]",
      "text/plain": [
       "<matplotlib.figure.Figure at 0x11fe85a90>"
      ]
     },
     "metadata": {},
     "output_type": "display_data"
    }
   ],
   "source": [
    "model_cvscore = np.hstack((cv_score_lr, cv_score_tree, cv_score_svm, cv_score_xgb))\n",
    "#model_name = np.hstack(('LinearReg', clf_tree.keys(), clf_svm.keys(), 'Xgboost'))\n",
    "model_name = np.array(['LinearReg', 'ExtraTree', 'DTree', 'RF', 'GraBoost', 'Bagging', 'AdaBoost',\n",
    "                       'LinearSVC', 'SVM-linear', 'SVM-rbf', 'SVM-poly', 'Xgboost'])\n",
    "fig = plt.figure(figsize = (8, 4))\n",
    "\n",
    "sns.barplot(model_cvscore, model_name, palette = \"Blues_d\")\n",
    "\n",
    "plt.xticks(rotation = 0, size = 10)\n",
    "plt.xlabel(\"CV score\", fontsize = 12)\n",
    "plt.ylabel(\"Model\", fontsize = 12)\n",
    "plt.title(\"Cross-validation score for different models\")\n",
    "\n",
    "plt.tight_layout()"
   ]
  },
  {
   "cell_type": "markdown",
   "metadata": {},
   "source": [
    "# 7. Conclusion and tips\n",
    "\n",
    "1. Further parameters tuning is needed\n",
    "2. Have not included session dataset information.\n",
    "3. More feature engineering can be done to improve\n",
    "4. Only 10% of original dataset is included here. By performing on the whole dataset would expect to have better\n",
    "   performance.\n",
    "5. Model ensemble. "
   ]
  }
 ],
 "metadata": {
  "anaconda-cloud": {},
  "kernelspec": {
   "display_name": "Python 3",
   "language": "python",
   "name": "python3"
  },
  "language_info": {
   "codemirror_mode": {
    "name": "ipython",
    "version": 3
   },
   "file_extension": ".py",
   "mimetype": "text/x-python",
   "name": "python",
   "nbconvert_exporter": "python",
   "pygments_lexer": "ipython3",
   "version": "3.6.5"
  }
 },
 "nbformat": 4,
 "nbformat_minor": 1
}
